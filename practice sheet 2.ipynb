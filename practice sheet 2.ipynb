{
 "cells": [
  {
   "cell_type": "markdown",
   "metadata": {},
   "source": [
    "# Python User Define Function Practice Activity - 2 "
   ]
  },
  {
   "cell_type": "markdown",
   "metadata": {},
   "source": [
    "Asst. Prof. Syed Faisal Ali              $\\;\\;\\;\\;\\;\\;$              Programming Fundamentals - FALL 2019 $\\;\\;\\;\\;\\;\\;$ Software Engineering                     $\\;\\;\\;\\;\\;\\;$                   Dated: 27 Nov 2019"
   ]
  },
  {
   "cell_type": "markdown",
   "metadata": {},
   "source": [
    "Question 1: Create a function to find the following:\n",
    "If the base of triangle is 3 cm long and its equilateral triangle and the radius of circle is 1.5 cm then find the area of triangle shaded. \n"
   ]
  },
  {
   "cell_type": "markdown",
   "metadata": {},
   "source": [
    "![proj](q1.jpg)"
   ]
  },
  {
   "cell_type": "code",
   "execution_count": 12,
   "metadata": {},
   "outputs": [
    {
     "name": "stdout",
     "output_type": "stream",
     "text": [
      "the area of shaded region is  19.931416529422965\n"
     ]
    }
   ],
   "source": [
    "import math\n",
    "def area(r,l):\n",
    "    areaofcircle=math.pi*r*r\n",
    "    areaoftri=l*l*3\n",
    "    x=areaoftri-areaofcircle\n",
    "    print(\"the area of shaded region is \",x)\n",
    "    \n",
    "area(1.5,3)\n",
    "#4.17 minutes"
   ]
  },
  {
   "cell_type": "markdown",
   "metadata": {},
   "source": [
    "Question 2: Create a function which can read a dictionary of your family members such as 5 members. \n",
    "1 Abbu, 1 Ammi, 2 Brothers 1 Sister. Now feed this data in dictionary in terms of name and relations.\n",
    "The UDF will ask findrelation() in this you will enter Brother it will return the names of two brothers you have inserted. In case if the relation is not found it will return “Sorry the relation doesn’t exist in your family.” \n"
   ]
  },
  {
   "cell_type": "code",
   "execution_count": 13,
   "metadata": {},
   "outputs": [
    {
     "name": "stdout",
     "output_type": "stream",
     "text": [
      "sohana\n",
      "sameer,kabeer\n"
     ]
    }
   ],
   "source": [
    "def relation(d):\n",
    "    dict={'father':'ali','brother':'sameer,kabeer','sister':'rukhsana','mother':'sohana'}\n",
    "    x=dict[d]\n",
    "    return x\n",
    "print(relation('mother'))\n",
    "print(relation('brother'))"
   ]
  },
  {
   "cell_type": "markdown",
   "metadata": {},
   "source": [
    "Question 3: Create a function to find the following:\n",
    "If the base of triangle is 5 cm long and its equilateral triangle and the radius of circle is 2.25 cm then find the area of triangle shaded. \n"
   ]
  },
  {
   "cell_type": "markdown",
   "metadata": {},
   "source": [
    "![proj](q3.jpg)"
   ]
  },
  {
   "cell_type": "code",
   "execution_count": 13,
   "metadata": {},
   "outputs": [
    {
     "name": "stdout",
     "output_type": "stream",
     "text": [
      "the area of shaded region is  2.25  cm^2\n"
     ]
    }
   ],
   "source": [
    "import math\n",
    "def area1(r,l):\n",
    "    circlearea=math.pi*r*r\n",
    "    triarea=l*l*3\n",
    "    x=circlearea-triarea\n",
    "    print(\"the area of shaded region is \",r,\" cm^2\")\n",
    "area1(2.25,5)\n",
    "#3.14 minutes"
   ]
  },
  {
   "cell_type": "markdown",
   "metadata": {},
   "source": [
    "Question 4:\n",
    "Create a function that takes a list of random numbers from users and add only those which are even. If all the numbers are odd it will return sorry no even number found.\n"
   ]
  },
  {
   "cell_type": "code",
   "execution_count": 14,
   "metadata": {},
   "outputs": [
    {
     "name": "stdout",
     "output_type": "stream",
     "text": [
      "the sum of even numbers are  16\n"
     ]
    }
   ],
   "source": [
    "def even(a,b,c,d,e):\n",
    "    lst=[a,b,c,d,e]\n",
    "    sum=0\n",
    "    for i in lst:\n",
    "        if i%2==0:\n",
    "            sum+=i\n",
    "    print(\"the sum of even numbers are \",sum)\n",
    "even(5,8,6,3,2)\n",
    "#2.58 minutes"
   ]
  },
  {
   "cell_type": "markdown",
   "metadata": {},
   "source": [
    "Question 5:\n",
    "Write a function which can take a list of numbers and it will return sorted list.\n"
   ]
  },
  {
   "cell_type": "code",
   "execution_count": 7,
   "metadata": {},
   "outputs": [
    {
     "name": "stdout",
     "output_type": "stream",
     "text": [
      "the sorted list is  [24, 52, 63, 85, 93, 99]\n"
     ]
    }
   ],
   "source": [
    "def sortt(a,b,c,d,e,f):\n",
    "    lst=[a,b,c,d,e,f]\n",
    "    lst.sort()\n",
    "    print(\"the sorted list is \",lst)\n",
    "sortt(99,85,63,24,52,93)\n",
    "#1.16 minutes"
   ]
  },
  {
   "cell_type": "markdown",
   "metadata": {},
   "source": [
    "Question 6:\n",
    "Write a function that will take the radius and return the perimeter and area of circle with 5% increment.\n"
   ]
  },
  {
   "cell_type": "code",
   "execution_count": 17,
   "metadata": {},
   "outputs": [
    {
     "name": "stdout",
     "output_type": "stream",
     "text": [
      "the area of the circle with 5% increment is  82.46680715673207 \n",
      "the perimeter of circle with 5% increment is  32.98672286269283\n"
     ]
    }
   ],
   "source": [
    "import math\n",
    "def area_perimeter(r):\n",
    "    area=math.pi*r*r\n",
    "    peri=2*math.pi*r\n",
    "    x=area/20\n",
    "    a=area+x\n",
    "    y=peri/20\n",
    "    b=peri+y\n",
    "    print(\"the area of the circle with 5% increment is \",a,\"\\nthe perimeter of circle with 5% increment is \",b)\n",
    "area_perimeter(5)\n",
    "#6.35 minutes"
   ]
  },
  {
   "cell_type": "markdown",
   "metadata": {},
   "source": [
    "Question 7:\n",
    "Write a function that will take the strings as argument and return number of vowels and consonants.\n"
   ]
  },
  {
   "cell_type": "code",
   "execution_count": 3,
   "metadata": {},
   "outputs": [
    {
     "name": "stdout",
     "output_type": "stream",
     "text": [
      "the number of vowels are  2\n",
      "the number of consonants are  4\n"
     ]
    }
   ],
   "source": [
    "def vowels(s):\n",
    "    vow=0\n",
    "    cons=0\n",
    "    for i in s:\n",
    "        if i in \"aeiouAEIOU\":\n",
    "            vow+=1\n",
    "        else:\n",
    "            cons+=1\n",
    "    print(\"the number of vowels are \",vow)\n",
    "    print(\"the number of consonants are \",cons)\n",
    "vowels(\"farzan\")\n",
    "#2.53 minutes"
   ]
  },
  {
   "cell_type": "markdown",
   "metadata": {},
   "source": [
    "Question 8:\n",
    "Write a function that will take length and breadth for a rectangle and return perimeter and area of rectangle with 8% increment.\n"
   ]
  },
  {
   "cell_type": "code",
   "execution_count": 20,
   "metadata": {},
   "outputs": [
    {
     "name": "stdout",
     "output_type": "stream",
     "text": [
      "the perimeter of rectangle is  32.4 \n",
      "the area of rectangle is  54.0\n"
     ]
    }
   ],
   "source": [
    "def peri_area(l,b):\n",
    "    p=2*(l+b)\n",
    "    a=l*b\n",
    "    x=p/12.5+p\n",
    "    y=a/12.5+a\n",
    "    print(\"the perimeter of rectangle is \",x,\"\\nthe area of rectangle is \",y)\n",
    "peri_area(5,10)\n",
    "#3.43 minutes"
   ]
  },
  {
   "cell_type": "markdown",
   "metadata": {},
   "source": [
    "Question 9:\n",
    "Write a function that can take the numbers in strings. From string find which number is even and which one is odd. Save them in two different lists and generate the result.\n"
   ]
  },
  {
   "cell_type": "code",
   "execution_count": 21,
   "metadata": {},
   "outputs": [
    {
     "name": "stdout",
     "output_type": "stream",
     "text": [
      "even list are  [10, 20, 96, 72] \n",
      "odd list are  [5, 15]\n"
     ]
    }
   ],
   "source": [
    "def str1(a,b,c,d,e,f):\n",
    "    even=[]\n",
    "    odd=[]\n",
    "    lst=[a,b,c,d,e,f]\n",
    "    for i in lst:\n",
    "        if i%2==0:\n",
    "            even.append(i)\n",
    "        else:\n",
    "            odd.append(i)\n",
    "    print(\"even list are \",even,\"\\nodd list are \",odd)\n",
    "str1(5,10,15,20,96,72)\n",
    "#3.55 minutes"
   ]
  },
  {
   "cell_type": "markdown",
   "metadata": {},
   "source": [
    "Question 10:\n",
    "Write a function which will take the string from the user and return how many alphabets have been used in it and which alphabets are missing.\n"
   ]
  },
  {
   "cell_type": "code",
   "execution_count": 26,
   "metadata": {},
   "outputs": [
    {
     "name": "stdout",
     "output_type": "stream",
     "text": [
      "the missing alphabets are  ['b', 'c', 'd', 'e', 'g', 'h', 'i', 'j', 'k', 'l', 'm', 'o', 'p', 'q', 's', 't', 'u', 'v', 'w', 'x', 'y']\n",
      "the used alphabet are  farzn\n",
      "f a r z n "
     ]
    }
   ],
   "source": [
    "def alpha(s):\n",
    "    alphabets=['a','b','c','d','e','f','g','h','i','j','k','l','m','n','o','p','q','r','s','t','u','v','w','x','y','z']\n",
    "    for i in s:\n",
    "        alphabets.remove(i)\n",
    "    print('the missing alphabets are ',alphabets)\n",
    "    print(\"the used alphabet are \",s)\n",
    "    for i in s:\n",
    "        print(i,end=\" \")\n",
    "alpha(\"farzn\")\n",
    "#this tooks probably half hour for the concept\n",
    "    "
   ]
  },
  {
   "cell_type": "markdown",
   "metadata": {},
   "source": [
    "Question 11:\n",
    "Write a function that will take verbs in words and return a list of verbs with continuous tense by adding (ing) at the end of each verb.\n"
   ]
  },
  {
   "cell_type": "code",
   "execution_count": 29,
   "metadata": {},
   "outputs": [
    {
     "name": "stdout",
     "output_type": "stream",
     "text": [
      "falling\n",
      "calling\n"
     ]
    }
   ],
   "source": [
    "def verb(x):\n",
    "    return x+\"ing\"\n",
    "print(verb(\"fall\"))\n",
    "print(verb(\"call\"))\n",
    "#0.45 minutes    "
   ]
  },
  {
   "cell_type": "markdown",
   "metadata": {},
   "source": [
    "Question 12:\n",
    "Make a function which can take two radius of circles and find the areas of it and subtract smaller one from larger one and tell the remaining area of circle.\n"
   ]
  },
  {
   "cell_type": "code",
   "execution_count": 31,
   "metadata": {},
   "outputs": [
    {
     "name": "stdout",
     "output_type": "stream",
     "text": [
      "the area of circle is  122.52211349000193\n",
      "None\n",
      "the area of circle is  122.52211349000193\n",
      "None\n"
     ]
    }
   ],
   "source": [
    "import math\n",
    "def area(r1,r2):\n",
    "    area1=math.pi*r1*r1\n",
    "    area2=math.pi*r2*r2\n",
    "    if r1>r2:\n",
    "        a=area1-area2\n",
    "        print(\"the area of circle is \",a)\n",
    "    elif r1<r2:\n",
    "        a=area2-area1\n",
    "        print(\"the area of circle is \",a)\n",
    "print(area(5,8))\n",
    "print(area(8,5))\n",
    "#3.52 minutes  "
   ]
  },
  {
   "cell_type": "markdown",
   "metadata": {},
   "source": [
    "Question 13:\n",
    "Write a function that will take a string and calculate number of Upper case letters and lower case letters.\n"
   ]
  },
  {
   "cell_type": "code",
   "execution_count": 36,
   "metadata": {},
   "outputs": [
    {
     "name": "stdout",
     "output_type": "stream",
     "text": [
      "the nunmber of lower letters are  4\n",
      "the nunmber of upper letters are  2\n"
     ]
    }
   ],
   "source": [
    "def string_count(x):\n",
    "    count1=0\n",
    "    count2=0\n",
    "    for i in x:\n",
    "        if (i.islower()):\n",
    "            count1+=1\n",
    "        elif (i.isupper()):\n",
    "            count2+=1\n",
    "    print(\"the nunmber of lower letters are \",count1)\n",
    "    print(\"the nunmber of upper letters are \",count2)\n",
    "string_count(\"FaRzan\")\n",
    "#8 minutes"
   ]
  },
  {
   "cell_type": "markdown",
   "metadata": {},
   "source": [
    "Question 14:\n",
    "Write a function which will take length and breadth of two rectangles. Subtract the smaller rectangle from the larger rectangle and return the area left behind.\n"
   ]
  },
  {
   "cell_type": "code",
   "execution_count": 39,
   "metadata": {},
   "outputs": [
    {
     "name": "stdout",
     "output_type": "stream",
     "text": [
      "the area of rectangle is  42  m.sq\n",
      "the area of rectangle is  42  m.sq\n"
     ]
    }
   ],
   "source": [
    "def area_rect(l1,b1,l2,b2):\n",
    "    area1=l1*b1\n",
    "    area2=l2*b2\n",
    "    if area1>area2:\n",
    "        area=area1-area2\n",
    "        print(\"the area of rectangle is \",area,\" m.sq\")\n",
    "    elif area2>area1:\n",
    "        area=area2-area1\n",
    "        print(\"the area of rectangle is \",area,\" m.sq\")\n",
    "area_rect(5,6,8,9)\n",
    "area_rect(8,9,5,6)\n",
    "#3.14 minutes"
   ]
  },
  {
   "cell_type": "markdown",
   "metadata": {},
   "source": [
    "Question 15:\n",
    "Create a function that can add the fractions in series such as 1 to 8 = 1/8+1/7+1/6+1/5 …… ½ and return the result in fraction not in decimal.\n"
   ]
  },
  {
   "cell_type": "code",
   "execution_count": 3,
   "metadata": {},
   "outputs": [
    {
     "name": "stdout",
     "output_type": "stream",
     "text": [
      "223/140\n"
     ]
    }
   ],
   "source": [
    "import fractions\n",
    "def frac(n1,n2):\n",
    "    lst=[]\n",
    "    for i in range(n1,n2+1):\n",
    "        x=fractions.Fraction(1,i)\n",
    "        lst.append(x)\n",
    "    print(sum(lst))\n",
    "frac(2,7)\n",
    "#12.32 minutes"
   ]
  },
  {
   "cell_type": "markdown",
   "metadata": {},
   "source": [
    "Question 16: Write a function which will take height and base for a triangle and \n"
   ]
  },
  {
   "cell_type": "code",
   "execution_count": 5,
   "metadata": {},
   "outputs": [
    {
     "name": "stdout",
     "output_type": "stream",
     "text": [
      "the third side of triangfle is  5.0\n"
     ]
    }
   ],
   "source": [
    "import math\n",
    "def tri(a,b):\n",
    "    C=(a*a)+(b*b)\n",
    "    c=math.sqrt(C)\n",
    "    print(\"the third side of triangle is \",c)\n",
    "tri(4,3)\n",
    "#1.40 minutes"
   ]
  },
  {
   "cell_type": "markdown",
   "metadata": {},
   "source": [
    "Question 17:\n",
    "Write a function which will take a list of fruits names. The function will return how many alphabets are repetitive in the names of fruits and how many are unique letters.\n"
   ]
  },
  {
   "cell_type": "code",
   "execution_count": 16,
   "metadata": {},
   "outputs": [
    {
     "name": "stdout",
     "output_type": "stream",
     "text": [
      "the repititive elements are:  7\n"
     ]
    }
   ],
   "source": [
    "import collections\n",
    "def repwords(a,b,c):\n",
    "    lst=[a,b,c]\n",
    "    z=0\n",
    "    an=0\n",
    "    for i in lst:\n",
    "        for j in i:\n",
    "            n=i.count(j)\n",
    "            if n>1:\n",
    "                an+=1\n",
    "    print('the repititive elements are: ',an)\n",
    "repwords(\"apple\",'banana','orange')\n",
    "            "
   ]
  },
  {
   "cell_type": "markdown",
   "metadata": {},
   "source": [
    "Question 18:\n",
    "Write a function that can take square length and radius of circle. Find the area of both and subtract the smallest shape from largest one and return the remaining shape area.\n"
   ]
  },
  {
   "cell_type": "code",
   "execution_count": 11,
   "metadata": {},
   "outputs": [
    {
     "name": "stdout",
     "output_type": "stream",
     "text": [
      "the area of shape is  3500\n",
      "the area of shape is  3500\n"
     ]
    }
   ],
   "source": [
    "def shape_area(l1,r1,l2,r2):\n",
    "    area1=l1*l1*r1\n",
    "    area2=l2*l2*r2\n",
    "    if area1>area2:\n",
    "        area=area1-area2\n",
    "        print(\"the area of shape is \",area)\n",
    "    elif area2>area1:\n",
    "        area=area2-area1\n",
    "        print(\"the area of shape is \",area)\n",
    "shape_area(10,5,20,10)\n",
    "shape_area(20,10,10,5)\n",
    "#3.55 minutes"
   ]
  },
  {
   "cell_type": "code",
   "execution_count": null,
   "metadata": {},
   "outputs": [],
   "source": []
  }
 ],
 "metadata": {
  "kernelspec": {
   "display_name": "Python 3",
   "language": "python",
   "name": "python3"
  },
  "language_info": {
   "codemirror_mode": {
    "name": "ipython",
    "version": 3
   },
   "file_extension": ".py",
   "mimetype": "text/x-python",
   "name": "python",
   "nbconvert_exporter": "python",
   "pygments_lexer": "ipython3",
   "version": "3.7.3"
  }
 },
 "nbformat": 4,
 "nbformat_minor": 2
}
